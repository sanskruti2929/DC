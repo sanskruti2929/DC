{
 "cells": [
  {
   "cell_type": "code",
   "execution_count": 1,
   "id": "2f284c84-2049-4f6d-b430-310f694cb422",
   "metadata": {},
   "outputs": [
    {
     "name": "stdout",
     "output_type": "stream",
     "text": [
      "Requirement already satisfied: mrjob in c:\\users\\victus\\anaconda3\\lib\\site-packages (0.7.4)\n",
      "Requirement already satisfied: PyYAML>=3.10 in c:\\users\\victus\\anaconda3\\lib\\site-packages (from mrjob) (6.0.1)\n"
     ]
    }
   ],
   "source": [
    "!pip install mrjob"
   ]
  },
  {
   "cell_type": "code",
   "execution_count": 7,
   "id": "9bb92cef-d940-47c7-94ae-4e8948d26e25",
   "metadata": {},
   "outputs": [
    {
     "name": "stderr",
     "output_type": "stream",
     "text": [
      "No configs specified for inline runner\n"
     ]
    },
    {
     "name": "stdout",
     "output_type": "stream",
     "text": [
      "Hottest Year: 2018 (Avg: 28.76°C)\n",
      "Coolest Year: 1991 (Avg: 26.93°C)\n"
     ]
    }
   ],
   "source": [
    "from weather_MR import WeatherAnalysis  # Skip if code is already in the notebook\n",
    "from io import StringIO\n",
    "\n",
    "input_file = 'mumbai_weather.csv'  # path to your CSV file\n",
    "\n",
    "# Run the job\n",
    "mr_job = WeatherAnalysis(args=[input_file])\n",
    "with mr_job.make_runner() as runner:\n",
    "    runner.run()\n",
    "    for key, value in mr_job.parse_output(runner.cat_output()):\n",
    "        print(f\"{key}: {value}\")"
   ]
  },
  {
   "cell_type": "code",
   "execution_count": null,
   "id": "36e4de02-30c2-4c51-ad23-0fcba7530659",
   "metadata": {},
   "outputs": [],
   "source": []
  }
 ],
 "metadata": {
  "kernelspec": {
   "display_name": "Python 3 (ipykernel)",
   "language": "python",
   "name": "python3"
  },
  "language_info": {
   "codemirror_mode": {
    "name": "ipython",
    "version": 3
   },
   "file_extension": ".py",
   "mimetype": "text/x-python",
   "name": "python",
   "nbconvert_exporter": "python",
   "pygments_lexer": "ipython3",
   "version": "3.12.7"
  }
 },
 "nbformat": 4,
 "nbformat_minor": 5
}
